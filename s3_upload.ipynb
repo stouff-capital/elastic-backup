{
 "cells": [
  {
   "cell_type": "code",
   "execution_count": null,
   "metadata": {},
   "outputs": [],
   "source": [
    "%load_ext dotenv\n",
    "%dotenv\n",
    "\n",
    "import os"
   ]
  },
  {
   "cell_type": "code",
   "execution_count": null,
   "metadata": {},
   "outputs": [],
   "source": [
    "%reload_ext dotenv\n",
    "%dotenv\n",
    "\n",
    "import os"
   ]
  },
  {
   "cell_type": "markdown",
   "metadata": {},
   "source": [
    "http://localhost:9200/_cat/indices?v"
   ]
  },
  {
   "cell_type": "code",
   "execution_count": null,
   "metadata": {},
   "outputs": [],
   "source": [
    "from os import listdir\n",
    "from os.path import isfile, join\n",
    "\n",
    "import re\n",
    "\n",
    "mypath = \".\"\n",
    "onlyjsonfiles = [ re.search('central-[\\d]{4}\\.[\\d]{2}\\.[\\d]{2}', f).group(0) \n",
    "                 for f in listdir(mypath) \n",
    "                 if isfile(join(mypath, f)) \n",
    "                 and f.split(\".\")[-1] == 'json' \n",
    "                 and re.search('central-[\\d]{4}\\.[\\d]{2}\\.[\\d]{2}-documents', f) != None  \n",
    "                ]\n",
    "\n",
    "onlyjsonfiles"
   ]
  },
  {
   "cell_type": "code",
   "execution_count": null,
   "metadata": {},
   "outputs": [],
   "source": [
    "import requests"
   ]
  },
  {
   "cell_type": "code",
   "execution_count": null,
   "metadata": {},
   "outputs": [],
   "source": [
    "import re\n",
    "\n",
    "res = requests.get(os.environ[\"ELASTIC_HOST\"] + \"/_cat/indices?format=json\")\n",
    "list_indices =  [ str(index['index']) \n",
    "                 for index in res.json() \n",
    "                 if re.search('central-[\\d]{4}\\.[\\d]{2}\\.[\\d]{2}', index['index']) ]\n",
    "\n",
    "list_indices"
   ]
  },
  {
   "cell_type": "code",
   "execution_count": null,
   "metadata": {},
   "outputs": [],
   "source": [
    "indices_to_backup = [item for item in list_indices if item not in onlyjsonfiles]\n",
    "indices_to_backup"
   ]
  },
  {
   "cell_type": "code",
   "execution_count": null,
   "metadata": {},
   "outputs": [],
   "source": [
    "for index in indices_to_backup:\n",
    "    !elasticbackup localhost:9200 $index"
   ]
  },
  {
   "cell_type": "code",
   "execution_count": null,
   "metadata": {},
   "outputs": [],
   "source": [
    "from minio import Minio\n",
    "from minio.error import ResponseError"
   ]
  },
  {
   "cell_type": "code",
   "execution_count": null,
   "metadata": {},
   "outputs": [],
   "source": [
    "minioClient = Minio(os.environ[\"S3_HOST\"],\n",
    "                  access_key=os.environ[\"ACCESS_KEY\"],\n",
    "                  secret_key=os.environ[\"SECRET_KEY\"],\n",
    "                  secure=True)"
   ]
  },
  {
   "cell_type": "code",
   "execution_count": null,
   "metadata": {},
   "outputs": [],
   "source": [
    "bucket_elastic = \"elastic\""
   ]
  },
  {
   "cell_type": "code",
   "execution_count": null,
   "metadata": {},
   "outputs": [],
   "source": [
    "found_bucket_elastic = False\n",
    "for bucket in minioClient.list_buckets():\n",
    "    if bucket.name == bucket_elastic:\n",
    "        found_bucket_elastic = True\n",
    "        break\n",
    "    #print(bucket.name, bucket.creation_date)"
   ]
  },
  {
   "cell_type": "code",
   "execution_count": null,
   "metadata": {},
   "outputs": [],
   "source": [
    "if minioClient.bucket_exists(bucket_elastic) == False:\n",
    "    minioClient.make_bucket(\"elastic\", location=\"us-east-1\")"
   ]
  },
  {
   "cell_type": "code",
   "execution_count": null,
   "metadata": {},
   "outputs": [],
   "source": [
    "onlyjsonfiles = [ f \n",
    "                 for f in listdir(mypath) \n",
    "                 if isfile(join(mypath, f)) \n",
    "                 and f.split(\".\")[-1] == 'json' \n",
    "                 #and re.search('central-[\\d]{4}\\.[\\d]{2}\\.[\\d]{2}-documents', f) != None  \n",
    "                ]\n",
    "\n",
    "onlyjsonfiles"
   ]
  },
  {
   "cell_type": "code",
   "execution_count": null,
   "metadata": {},
   "outputs": [],
   "source": [
    "already_backuped = [ obj.object_name for obj in minioClient.list_objects(bucket_elastic) ]\n",
    "already_backuped"
   ]
  },
  {
   "cell_type": "code",
   "execution_count": null,
   "metadata": {},
   "outputs": [],
   "source": [
    "to_backup = [item for item in onlyjsonfiles if item not in already_backuped]\n",
    "to_backup"
   ]
  },
  {
   "cell_type": "code",
   "execution_count": null,
   "metadata": {},
   "outputs": [],
   "source": [
    "for file in to_backup:\n",
    "    minioClient.fput_object(bucket_elastic, file, './' + file)"
   ]
  },
  {
   "cell_type": "code",
   "execution_count": null,
   "metadata": {},
   "outputs": [],
   "source": []
  }
 ],
 "metadata": {
  "kernelspec": {
   "display_name": "Python 2",
   "language": "python",
   "name": "python2"
  },
  "language_info": {
   "codemirror_mode": {
    "name": "ipython",
    "version": 2
   },
   "file_extension": ".py",
   "mimetype": "text/x-python",
   "name": "python",
   "nbconvert_exporter": "python",
   "pygments_lexer": "ipython2",
   "version": "2.7.15"
  }
 },
 "nbformat": 4,
 "nbformat_minor": 2
}
